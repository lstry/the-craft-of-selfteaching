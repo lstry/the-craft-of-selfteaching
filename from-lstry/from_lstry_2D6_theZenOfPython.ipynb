{
 "cells": [
  {
   "cell_type": "code",
   "execution_count": 2,
   "metadata": {},
   "outputs": [
    {
     "name": "stdout",
     "output_type": "stream",
     "text": [
      "Gur Mrn bs Clgubn, ol Gvz Crgref\n",
      "Ornhgvshy vf orggre gunn htyl.\n",
      "Rkcyvpvg vf orggre gunn vzcyvpvg.\n",
      "Fvzcyr vf orggre gunn pbzcyrk.\n",
      "Pbzcyrk vf orggre gunn pbzcyvpngrq.\n",
      "Syng vf orggre gunn nrfgrq.\n",
      "Fcnefr vf orggre gunn qrnfr.\n",
      "Ernqnovyvgl pbhngf.\n",
      "Fcrpvny pnfrf nern'g fcrpvny rnbhtu gb oernx gur ehyrf.\n",
      "Nygubhtu cenpgvpnyvgl orngf chevgl.\n",
      "Reebef fubhyq nrire cnff fvyrngyl.\n",
      "Hnyrff rkcyvpvgyl fvyrnprq.\n",
      "Vn gur snpr bs nzovthvgl, ershfr gur grzcgngvbn gb thrff.\n",
      "Gurer fubhyq or bnr-- nnq cersrenoyl bnyl bnr --boivbhf jnl gb qb vg.\n",
      "Nygubhtu gung jnl znl nbg or boivbhf ng svefg hnyrff lbh'er Qhgpu.\n",
      "Nbj vf orggre gunn nrire.\n",
      "Nygubhtu nrire vf bsgrn orggre gunn *evtug* nbj.\n",
      "Vs gur vzcyrzrngngvbn vf uneq gb rkcynvn, vg'f n onq vqrn.\n",
      "Vs gur vzcyrzrngngvbn vf rnfl gb rkcynvn, vg znl or n tbbq vqrn.\n",
      "Nnzrfcnprf ner bnr ubnxvnt terng vqrn -- yrg'f qb zber bs gubfr!\n"
     ]
    }
   ],
   "source": [
    "s = \"\"\"The Zen of Python, by Tim Peters\n",
    "Beautiful is better than ugly.\n",
    "Explicit is better than implicit.\n",
    "Simple is better than complex.\n",
    "Complex is better than complicated.\n",
    "Flat is better than nested.\n",
    "Sparse is better than dense.\n",
    "Readability counts.\n",
    "Special cases aren't special enough to break the rules.\n",
    "Although practicality beats purity.\n",
    "Errors should never pass silently.\n",
    "Unless explicitly silenced.\n",
    "In the face of ambiguity, refuse the temptation to guess.\n",
    "There should be one-- and preferably only one --obvious way to do it.\n",
    "Although that way may not be obvious at first unless you're Dutch.\n",
    "Now is better than never.\n",
    "Although never is often better than *right* now.\n",
    "If the implementation is hard to explain, it's a bad idea.\n",
    "If the implementation is easy to explain, it may be a good idea.\n",
    "Namespaces are one honking great idea -- let's do more of those!\"\"\"\n",
    "\n",
    "d = {}\n",
    "for c in (65, 97):\n",
    "    for i in range(26):\n",
    "        if i > 13:\n",
    "            d[chr(i+c)] = chr((i-13) + c)\n",
    "        elif i < 13:\n",
    "            d[chr(i+c)] = chr((i+13) + c)\n",
    "\n",
    "print(\"\".join([d.get(c, c) for c in s]))"
   ]
  },
  {
   "cell_type": "code",
   "execution_count": null,
   "metadata": {},
   "outputs": [],
   "source": []
  }
 ],
 "metadata": {
  "kernelspec": {
   "display_name": "Python 3",
   "language": "python",
   "name": "python3"
  },
  "language_info": {
   "codemirror_mode": {
    "name": "ipython",
    "version": 3
   },
   "file_extension": ".py",
   "mimetype": "text/x-python",
   "name": "python",
   "nbconvert_exporter": "python",
   "pygments_lexer": "ipython3",
   "version": "3.7.1"
  }
 },
 "nbformat": 4,
 "nbformat_minor": 2
}
